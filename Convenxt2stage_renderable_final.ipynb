{
 "cells": [
  {
   "cell_type": "markdown",
   "id": "bb28169d",
   "metadata": {
    "colab_type": "text",
    "id": "view-in-github"
   },
   "source": [
    "<a href=\"https://colab.research.google.com/github/Sungi-Hwang/Carclassification/blob/main/Convenxt%2B%40stage.ipynb\" target=\"_parent\"><img src=\"https://colab.research.google.com/assets/colab-badge.svg\" alt=\"Open In Colab\"/></a>"
   ]
  },
  {
   "cell_type": "code",
   "execution_count": null,
   "id": "516be618",
   "metadata": {
    "colab": {
     "base_uri": "https://localhost:8080/"
    },
    "id": "xzQx62OB6aN2",
    "outputId": "e0bceb8a-8b3e-4226-b81e-48cfdaaab947"
   },
   "outputs": [],
   "source": [
    "# 📌 [1] Install dependencies (without wandb)\n",
    "!pip install -q timm scikit-learn pyyaml"
   ]
  }
 ],
 "metadata": {
  "colab": {
   "name": "Convenxt+2stage_fixed.ipynb"
  },
  "kernelspec": {
   "display_name": "Python 3",
   "language": "python",
   "name": "python3"
  },
  "widgets": {
   "state": {},
   "version_major": 2,
   "version_minor": 0
  }
 },
 "nbformat": 4,
 "nbformat_minor": 5
}
